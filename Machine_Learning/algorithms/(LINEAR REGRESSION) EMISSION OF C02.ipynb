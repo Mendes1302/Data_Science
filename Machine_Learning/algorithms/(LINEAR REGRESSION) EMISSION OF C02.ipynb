{
  "nbformat": 4,
  "nbformat_minor": 0,
  "metadata": {
    "colab": {
      "name": "consume_CO2.ipynb",
      "provenance": [],
      "authorship_tag": "ABX9TyMxK2Bo4tjsYZVo+ftV2VJL",
      "include_colab_link": true
    },
    "kernelspec": {
      "name": "python3",
      "display_name": "Python 3"
    }
  },
  "cells": [
    {
      "cell_type": "markdown",
      "metadata": {
        "id": "view-in-github",
        "colab_type": "text"
      },
      "source": [
        "<a href=\"https://colab.research.google.com/github/Mendes1302/Python-Learning/blob/master/EMISSION%20OF%20C02.ipynb\" target=\"_parent\"><img src=\"https://colab.research.google.com/assets/colab-badge.svg\" alt=\"Open In Colab\"/></a>"
      ]
    },
    {
      "cell_type": "code",
      "metadata": {
        "id": "swbhOlPUODny"
      },
      "source": [
        "from matplotlib import pyplot as plt\r\n",
        "import pandas as pd\r\n",
        "import pylab as pl\r\n",
        "import numpy as np\r\n",
        "from sklearn import linear_model\r\n",
        "from sklearn.metrics import r2_score, mean_squared_error,mean_absolute_error\r\n",
        "from sklearn.model_selection import train_test_split\r\n",
        "from math import sqrt"
      ],
      "execution_count": 1,
      "outputs": []
    },
    {
      "cell_type": "code",
      "metadata": {
        "colab": {
          "base_uri": "https://localhost:8080/"
        },
        "id": "tM3xxEEbOmHP",
        "outputId": "5450de15-5870-49f0-ad76-9890d242e11a"
      },
      "source": [
        "!pip3 install wget #para fazer o Download\r\n",
        "!wget https://raw.githubusercontent.com/diogocortiz/Crash-Course-IA/master/RegressaoLinear/FuelConsumptionCo2.csv"
      ],
      "execution_count": 2,
      "outputs": [
        {
          "output_type": "stream",
          "text": [
            "Collecting wget\n",
            "  Downloading https://files.pythonhosted.org/packages/47/6a/62e288da7bcda82b935ff0c6cfe542970f04e29c756b0e147251b2fb251f/wget-3.2.zip\n",
            "Building wheels for collected packages: wget\n",
            "  Building wheel for wget (setup.py) ... \u001b[?25l\u001b[?25hdone\n",
            "  Created wheel for wget: filename=wget-3.2-cp36-none-any.whl size=9682 sha256=1f49d433c4e117e7d7a23db56f6b7128043bc519e8472033127a727b755ed984\n",
            "  Stored in directory: /root/.cache/pip/wheels/40/15/30/7d8f7cea2902b4db79e3fea550d7d7b85ecb27ef992b618f3f\n",
            "Successfully built wget\n",
            "Installing collected packages: wget\n",
            "Successfully installed wget-3.2\n",
            "--2021-01-02 17:52:21--  https://raw.githubusercontent.com/diogocortiz/Crash-Course-IA/master/RegressaoLinear/FuelConsumptionCo2.csv\n",
            "Resolving raw.githubusercontent.com (raw.githubusercontent.com)... 151.101.0.133, 151.101.64.133, 151.101.128.133, ...\n",
            "Connecting to raw.githubusercontent.com (raw.githubusercontent.com)|151.101.0.133|:443... connected.\n",
            "HTTP request sent, awaiting response... 200 OK\n",
            "Length: 72629 (71K) [text/plain]\n",
            "Saving to: ‘FuelConsumptionCo2.csv’\n",
            "\n",
            "FuelConsumptionCo2. 100%[===================>]  70.93K  --.-KB/s    in 0.01s   \n",
            "\n",
            "2021-01-02 17:52:22 (6.26 MB/s) - ‘FuelConsumptionCo2.csv’ saved [72629/72629]\n",
            "\n"
          ],
          "name": "stdout"
        }
      ]
    },
    {
      "cell_type": "code",
      "metadata": {
        "colab": {
          "base_uri": "https://localhost:8080/"
        },
        "id": "Qm0iiDjpPAC1",
        "outputId": "2c9f8cf5-4ddc-43ea-a4f4-f2547a03d45f"
      },
      "source": [
        "# Cria dataset em CSV\r\n",
        "data = pd.read_csv(\"FuelConsumptionCo2.csv\")\r\n",
        "\r\n",
        "print(data.head())"
      ],
      "execution_count": 3,
      "outputs": [
        {
          "output_type": "stream",
          "text": [
            "   MODELYEAR   MAKE  ... FUELCONSUMPTION_COMB_MPG CO2EMISSIONS\n",
            "0       2014  ACURA  ...                       33          196\n",
            "1       2014  ACURA  ...                       29          221\n",
            "2       2014  ACURA  ...                       48          136\n",
            "3       2014  ACURA  ...                       25          255\n",
            "4       2014  ACURA  ...                       27          244\n",
            "\n",
            "[5 rows x 13 columns]\n"
          ],
          "name": "stdout"
        }
      ]
    },
    {
      "cell_type": "code",
      "metadata": {
        "colab": {
          "base_uri": "https://localhost:8080/"
        },
        "id": "DWOPNu9nPtAL",
        "outputId": "48999f6d-1336-4bfb-9e2d-2331dd87bb99"
      },
      "source": [
        "print(data.describe())"
      ],
      "execution_count": 4,
      "outputs": [
        {
          "output_type": "stream",
          "text": [
            "       MODELYEAR   ENGINESIZE  ...  FUELCONSUMPTION_COMB_MPG  CO2EMISSIONS\n",
            "count     1067.0  1067.000000  ...               1067.000000   1067.000000\n",
            "mean      2014.0     3.346298  ...                 26.441425    256.228679\n",
            "std          0.0     1.415895  ...                  7.468702     63.372304\n",
            "min       2014.0     1.000000  ...                 11.000000    108.000000\n",
            "25%       2014.0     2.000000  ...                 21.000000    207.000000\n",
            "50%       2014.0     3.400000  ...                 26.000000    251.000000\n",
            "75%       2014.0     4.300000  ...                 31.000000    294.000000\n",
            "max       2014.0     8.400000  ...                 60.000000    488.000000\n",
            "\n",
            "[8 rows x 8 columns]\n"
          ],
          "name": "stdout"
        }
      ]
    },
    {
      "cell_type": "markdown",
      "metadata": {
        "id": "13ka1za-P6i4"
      },
      "source": [
        "#SELECIONAR ALGUMAS FEATURES"
      ]
    },
    {
      "cell_type": "code",
      "metadata": {
        "colab": {
          "base_uri": "https://localhost:8080/"
        },
        "id": "iGR8V7h1QOM5",
        "outputId": "d7075e2d-64a3-454d-891b-8e28902ff3ee"
      },
      "source": [
        "motores = data[['ENGINESIZE']]\r\n",
        "co2 = data[['CO2EMISSIONS']]\r\n",
        "print(motores.head())\r\n",
        "print('\\n', co2.head())"
      ],
      "execution_count": 8,
      "outputs": [
        {
          "output_type": "stream",
          "text": [
            "   ENGINESIZE\n",
            "0         2.0\n",
            "1         2.4\n",
            "2         1.5\n",
            "3         3.5\n",
            "4         3.5\n",
            "\n",
            "    CO2EMISSIONS\n",
            "0           196\n",
            "1           221\n",
            "2           136\n",
            "3           255\n",
            "4           244\n"
          ],
          "name": "stdout"
        }
      ]
    },
    {
      "cell_type": "markdown",
      "metadata": {
        "id": "_TK0AhM5RKpk"
      },
      "source": [
        "#Dividir o dataset em TESTE e TREINO"
      ]
    },
    {
      "cell_type": "code",
      "metadata": {
        "colab": {
          "base_uri": "https://localhost:8080/"
        },
        "id": "3Fex3c2nRTvj",
        "outputId": "e6500404-c82b-4659-f5d6-634ef1aa9ba3"
      },
      "source": [
        "motores_train, motores_test, co2_train, co2_test = train_test_split(motores, co2, test_size=0.2, random_state=42)\r\n",
        "print(type(motores_train))"
      ],
      "execution_count": 9,
      "outputs": [
        {
          "output_type": "stream",
          "text": [
            "<class 'pandas.core.frame.DataFrame'>\n"
          ],
          "name": "stdout"
        }
      ]
    },
    {
      "cell_type": "markdown",
      "metadata": {
        "id": "QMLZNWFRSXxw"
      },
      "source": [
        "#Exibir a correlação entre as FEATURES do dataset de treino"
      ]
    },
    {
      "cell_type": "code",
      "metadata": {
        "colab": {
          "base_uri": "https://localhost:8080/",
          "height": 280
        },
        "id": "bUSo0JJHSiGl",
        "outputId": "3c6de531-0781-4092-fa89-e5564d5814f7"
      },
      "source": [
        "plt.scatter(motores_train, co2_train, color='black')\r\n",
        "plt.xlabel(\"MOTOR\")\r\n",
        "plt.ylabel(\"EMISSÃO DE CO²\")\r\n",
        "plt.show()"
      ],
      "execution_count": 16,
      "outputs": [
        {
          "output_type": "display_data",
          "data": {
            "image/png": "[encoded data removed]",
            "text/plain": [
              "<Figure size 432x288 with 1 Axes>"
            ]
          },
          "metadata": {
            "tags": [],
            "needs_background": "light"
          }
        }
      ]
    },
    {
      "cell_type": "markdown",
      "metadata": {
        "id": "XGMa4YD_T0dc"
      },
      "source": [
        "#Treinar o modelo de regressão linear"
      ]
    },
    {
      "cell_type": "code",
      "metadata": {
        "colab": {
          "base_uri": "https://localhost:8080/"
        },
        "id": "LEyDHP66T6bU",
        "outputId": "02a55ffa-dfea-4425-f23c-ded9a10c471c"
      },
      "source": [
        "# Cria o modelo\r\n",
        "modelo = linear_model.LinearRegression()\r\n",
        "\r\n",
        "# Encontrar A e B (y = A + B.x)\r\n",
        "modelo.fit(motores_train, co2_train)"
      ],
      "execution_count": 13,
      "outputs": [
        {
          "output_type": "execute_result",
          "data": {
            "text/plain": [
              "LinearRegression(copy_X=True, fit_intercept=True, n_jobs=None, normalize=False)"
            ]
          },
          "metadata": {
            "tags": []
          },
          "execution_count": 13
        }
      ]
    },
    {
      "cell_type": "markdown",
      "metadata": {
        "id": "uaVK7WGGVL2N"
      },
      "source": [
        "#EXIBIR COEFICIENTES (A e B)"
      ]
    },
    {
      "cell_type": "code",
      "metadata": {
        "colab": {
          "base_uri": "https://localhost:8080/"
        },
        "id": "55TfxwIiVWaM",
        "outputId": "883b6046-01da-4063-d31f-cc347810924b"
      },
      "source": [
        "print('[A] Intercepto:  ', modelo.intercept_)\r\n",
        "print('[B] Inclinação:  ', modelo.coef_)"
      ],
      "execution_count": 14,
      "outputs": [
        {
          "output_type": "stream",
          "text": [
            "[A] Intercepto:   [126.28970217]\n",
            "[B] Inclinação:   [[38.99297872]]\n"
          ],
          "name": "stdout"
        }
      ]
    },
    {
      "cell_type": "markdown",
      "metadata": {
        "id": "sJPHHqjwWmYS"
      },
      "source": [
        "# RETA DA REGRESSÃO LINEAR (treino)"
      ]
    },
    {
      "cell_type": "code",
      "metadata": {
        "colab": {
          "base_uri": "https://localhost:8080/",
          "height": 280
        },
        "id": "9nR0n3ktWwFb",
        "outputId": "9293b1b4-c5e6-4ab8-d36f-9c7a9fe03b8b"
      },
      "source": [
        "plt.scatter(motores_train, co2_train, color='black')\r\n",
        "plt.plot(motores_train, modelo.coef_[0][0]*motores_train+modelo.intercept_[0], '-r')\r\n",
        "plt.xlabel(\"MOTOR\")\r\n",
        "plt.ylabel(\"EMISSÃO DE CO²\")\r\n",
        "plt.show()"
      ],
      "execution_count": 17,
      "outputs": [
        {
          "output_type": "display_data",
          "data": {
            "image/png": "[encoded data removed]",
            "text/plain": [
              "<Figure size 432x288 with 1 Axes>"
            ]
          },
          "metadata": {
            "tags": [],
            "needs_background": "light"
          }
        }
      ]
    },
    {
      "cell_type": "markdown",
      "metadata": {
        "id": "EWXVah81X5Hc"
      },
      "source": [
        "# Executar o modelo no dataset de teste"
      ]
    },
    {
      "cell_type": "code",
      "metadata": {
        "id": "f7GQN8--YI6i"
      },
      "source": [
        "predicoesCo2 = modelo.predict(motores_test)"
      ],
      "execution_count": 19,
      "outputs": []
    },
    {
      "cell_type": "markdown",
      "metadata": {
        "id": "Sf5PgqH3ZNSE"
      },
      "source": [
        "# RETA DA REGRESSÃO LINEAR (teste)"
      ]
    },
    {
      "cell_type": "code",
      "metadata": {
        "colab": {
          "base_uri": "https://localhost:8080/",
          "height": 279
        },
        "id": "ai478iWEZQOv",
        "outputId": "edb559cf-6ae7-4f3d-82cb-92605e1e7ef4"
      },
      "source": [
        "plt.scatter(motores_test, co2_test, color='black')\r\n",
        "plt.plot(motores_test, modelo.coef_[0][0]*motores_test+modelo.intercept_[0], '-r')\r\n",
        "plt.xlabel(\"MOTOR\")\r\n",
        "plt.ylabel(\"EMISSÃO DE CO²\")\r\n",
        "plt.show()"
      ],
      "execution_count": 20,
      "outputs": [
        {
          "output_type": "display_data",
          "data": {
            "image/png": "[encoded data removed]",
            "text/plain": [
              "<Figure size 432x288 with 1 Axes>"
            ]
          },
          "metadata": {
            "tags": [],
            "needs_background": "light"
          }
        }
      ]
    },
    {
      "cell_type": "markdown",
      "metadata": {
        "id": "k1p2SwLYZo0l"
      },
      "source": [
        "# Avaliar modelo:"
      ]
    },
    {
      "cell_type": "code",
      "metadata": {
        "colab": {
          "base_uri": "https://localhost:8080/"
        },
        "id": "hN_GYjDbZruc",
        "outputId": "77ed8d17-5f21-4510-ad23-769eb7f74f03"
      },
      "source": [
        "print('Soma dos Erros ao Quadrado (SSE): %2.f' % np.sum((predicoesCo2 - co2_test)**2))\r\n",
        "print('Erro Quadrático Médio (MSE): %.2f' % mean_squared_error(co2_test, predicoesCo2))\r\n",
        "print('Erro Médio Absoluto (MAE): %.2f' % mean_absolute_error(co2_test, predicoesCo2))\r\n",
        "print('Raiz do Erro Quadrático Médio (RMSE): %.2f' % sqrt(mean_squared_error(co2_test, predicoesCo2)))\r\n",
        "print('R2-score: %.2f' % r2_score(predicoesCo2, co2_test))\r\n",
        "\r\n",
        "\r\n"
      ],
      "execution_count": 23,
      "outputs": [
        {
          "output_type": "stream",
          "text": [
            "Soma dos Erros ao Quadrado (SSE): 210991\n",
            "Erro Quadrático Médio (MSE): 985.94\n",
            "Erro Médio Absoluto (MAE): 24.10\n",
            "Raiz do Erro Quadrático Médio (RMSE): 31.40\n",
            "R2-score: 0.68\n"
          ],
          "name": "stdout"
        }
      ]
    }
  ]
}
