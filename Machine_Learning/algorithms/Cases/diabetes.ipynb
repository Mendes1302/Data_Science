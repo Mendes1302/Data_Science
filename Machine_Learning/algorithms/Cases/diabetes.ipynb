{
 "metadata": {
  "language_info": {
   "codemirror_mode": {
    "name": "ipython",
    "version": 3
   },
   "file_extension": ".py",
   "mimetype": "text/x-python",
   "name": "python",
   "nbconvert_exporter": "python",
   "pygments_lexer": "ipython3",
   "version": "3.8.6"
  },
  "orig_nbformat": 2,
  "kernelspec": {
   "name": "python3",
   "display_name": "Python 3.8.6 64-bit",
   "metadata": {
    "interpreter": {
     "hash": "df0893f56f349688326838aaeea0de204df53a132722cbd565e54b24a8fec5f6"
    }
   }
  }
 },
 "nbformat": 4,
 "nbformat_minor": 2,
 "cells": [
  {
   "cell_type": "code",
   "execution_count": 3,
   "metadata": {},
   "outputs": [],
   "source": [
    "import pandas as pd\n",
    "import matplotlib.pyplot as plt\n",
    "import numpy as np"
   ]
  },
  {
   "cell_type": "code",
   "execution_count": 4,
   "metadata": {},
   "outputs": [],
   "source": [
    "df = pd.read_csv(\"https://raw.githubusercontent.com/dsacademybr/PythonFundamentos/master/Cap11/pima-data.csv\")"
   ]
  },
  {
   "cell_type": "code",
   "execution_count": 5,
   "metadata": {},
   "outputs": [
    {
     "output_type": "execute_result",
     "data": {
      "text/plain": [
       "(768, 10)"
      ]
     },
     "metadata": {},
     "execution_count": 5
    }
   ],
   "source": [
    "df.shape"
   ]
  },
  {
   "cell_type": "code",
   "execution_count": 6,
   "metadata": {},
   "outputs": [
    {
     "output_type": "execute_result",
     "data": {
      "text/plain": [
       "   num_preg  glucose_conc  diastolic_bp  thickness  insulin   bmi  diab_pred  \\\n",
       "0         6           148            72         35        0  33.6      0.627   \n",
       "1         1            85            66         29        0  26.6      0.351   \n",
       "2         8           183            64          0        0  23.3      0.672   \n",
       "3         1            89            66         23       94  28.1      0.167   \n",
       "4         0           137            40         35      168  43.1      2.288   \n",
       "\n",
       "   age    skin  diabetes  \n",
       "0   50  1.3780      True  \n",
       "1   31  1.1426     False  \n",
       "2   32  0.0000      True  \n",
       "3   21  0.9062     False  \n",
       "4   33  1.3790      True  "
      ],
      "text/html": "<div>\n<style scoped>\n    .dataframe tbody tr th:only-of-type {\n        vertical-align: middle;\n    }\n\n    .dataframe tbody tr th {\n        vertical-align: top;\n    }\n\n    .dataframe thead th {\n        text-align: right;\n    }\n</style>\n<table border=\"1\" class=\"dataframe\">\n  <thead>\n    <tr style=\"text-align: right;\">\n      <th></th>\n      <th>num_preg</th>\n      <th>glucose_conc</th>\n      <th>diastolic_bp</th>\n      <th>thickness</th>\n      <th>insulin</th>\n      <th>bmi</th>\n      <th>diab_pred</th>\n      <th>age</th>\n      <th>skin</th>\n      <th>diabetes</th>\n    </tr>\n  </thead>\n  <tbody>\n    <tr>\n      <th>0</th>\n      <td>6</td>\n      <td>148</td>\n      <td>72</td>\n      <td>35</td>\n      <td>0</td>\n      <td>33.6</td>\n      <td>0.627</td>\n      <td>50</td>\n      <td>1.3780</td>\n      <td>True</td>\n    </tr>\n    <tr>\n      <th>1</th>\n      <td>1</td>\n      <td>85</td>\n      <td>66</td>\n      <td>29</td>\n      <td>0</td>\n      <td>26.6</td>\n      <td>0.351</td>\n      <td>31</td>\n      <td>1.1426</td>\n      <td>False</td>\n    </tr>\n    <tr>\n      <th>2</th>\n      <td>8</td>\n      <td>183</td>\n      <td>64</td>\n      <td>0</td>\n      <td>0</td>\n      <td>23.3</td>\n      <td>0.672</td>\n      <td>32</td>\n      <td>0.0000</td>\n      <td>True</td>\n    </tr>\n    <tr>\n      <th>3</th>\n      <td>1</td>\n      <td>89</td>\n      <td>66</td>\n      <td>23</td>\n      <td>94</td>\n      <td>28.1</td>\n      <td>0.167</td>\n      <td>21</td>\n      <td>0.9062</td>\n      <td>False</td>\n    </tr>\n    <tr>\n      <th>4</th>\n      <td>0</td>\n      <td>137</td>\n      <td>40</td>\n      <td>35</td>\n      <td>168</td>\n      <td>43.1</td>\n      <td>2.288</td>\n      <td>33</td>\n      <td>1.3790</td>\n      <td>True</td>\n    </tr>\n  </tbody>\n</table>\n</div>"
     },
     "metadata": {},
     "execution_count": 6
    }
   ],
   "source": [
    "df.head()"
   ]
  },
  {
   "cell_type": "code",
   "execution_count": 13,
   "metadata": {},
   "outputs": [
    {
     "output_type": "execute_result",
     "data": {
      "text/plain": [
       "     num_preg  glucose_conc  diastolic_bp  thickness  insulin   bmi  \\\n",
       "763        10           101            76         48      180  32.9   \n",
       "764         2           122            70         27        0  36.8   \n",
       "765         5           121            72         23      112  26.2   \n",
       "766         1           126            60          0        0  30.1   \n",
       "767         1            93            70         31        0  30.4   \n",
       "\n",
       "     diab_pred  age    skin  diabetes  \n",
       "763      0.171   63  1.8912     False  \n",
       "764      0.340   27  1.0638     False  \n",
       "765      0.245   30  0.9062     False  \n",
       "766      0.349   47  0.0000      True  \n",
       "767      0.315   23  1.2214     False  "
      ],
      "text/html": "<div>\n<style scoped>\n    .dataframe tbody tr th:only-of-type {\n        vertical-align: middle;\n    }\n\n    .dataframe tbody tr th {\n        vertical-align: top;\n    }\n\n    .dataframe thead th {\n        text-align: right;\n    }\n</style>\n<table border=\"1\" class=\"dataframe\">\n  <thead>\n    <tr style=\"text-align: right;\">\n      <th></th>\n      <th>num_preg</th>\n      <th>glucose_conc</th>\n      <th>diastolic_bp</th>\n      <th>thickness</th>\n      <th>insulin</th>\n      <th>bmi</th>\n      <th>diab_pred</th>\n      <th>age</th>\n      <th>skin</th>\n      <th>diabetes</th>\n    </tr>\n  </thead>\n  <tbody>\n    <tr>\n      <th>763</th>\n      <td>10</td>\n      <td>101</td>\n      <td>76</td>\n      <td>48</td>\n      <td>180</td>\n      <td>32.9</td>\n      <td>0.171</td>\n      <td>63</td>\n      <td>1.8912</td>\n      <td>False</td>\n    </tr>\n    <tr>\n      <th>764</th>\n      <td>2</td>\n      <td>122</td>\n      <td>70</td>\n      <td>27</td>\n      <td>0</td>\n      <td>36.8</td>\n      <td>0.340</td>\n      <td>27</td>\n      <td>1.0638</td>\n      <td>False</td>\n    </tr>\n    <tr>\n      <th>765</th>\n      <td>5</td>\n      <td>121</td>\n      <td>72</td>\n      <td>23</td>\n      <td>112</td>\n      <td>26.2</td>\n      <td>0.245</td>\n      <td>30</td>\n      <td>0.9062</td>\n      <td>False</td>\n    </tr>\n    <tr>\n      <th>766</th>\n      <td>1</td>\n      <td>126</td>\n      <td>60</td>\n      <td>0</td>\n      <td>0</td>\n      <td>30.1</td>\n      <td>0.349</td>\n      <td>47</td>\n      <td>0.0000</td>\n      <td>True</td>\n    </tr>\n    <tr>\n      <th>767</th>\n      <td>1</td>\n      <td>93</td>\n      <td>70</td>\n      <td>31</td>\n      <td>0</td>\n      <td>30.4</td>\n      <td>0.315</td>\n      <td>23</td>\n      <td>1.2214</td>\n      <td>False</td>\n    </tr>\n  </tbody>\n</table>\n</div>"
     },
     "metadata": {},
     "execution_count": 13
    }
   ],
   "source": [
    "df.tail(5)"
   ]
  },
  {
   "cell_type": "code",
   "execution_count": 14,
   "metadata": {},
   "outputs": [
    {
     "output_type": "execute_result",
     "data": {
      "text/plain": [
       "False"
      ]
     },
     "metadata": {},
     "execution_count": 14
    }
   ],
   "source": [
    "df.isnull().values.any()"
   ]
  },
  {
   "cell_type": "code",
   "execution_count": 40,
   "metadata": {},
   "outputs": [],
   "source": [
    "def plot_corr(df, size=5):\n",
    "    corr = df.corr()\n",
    "    fig, ax = plt.subplots(figsize =  (size, size))\n",
    "    print(fig, ax)\n",
    "    ax.matshow(corr)\n",
    "    plt.xticks(range(len(corr.columns)), corr. columns)\n",
    "    plt.yticks(range(len(corr.columns)), corr. columns)"
   ]
  },
  {
   "cell_type": "code",
   "execution_count": 41,
   "metadata": {},
   "outputs": [
    {
     "output_type": "stream",
     "name": "stdout",
     "text": [
      "Figure(360x360) AxesSubplot(0.125,0.125;0.775x0.755)\n"
     ]
    },
    {
     "output_type": "display_data",
     "data": {
      "text/plain": "<Figure size 360x360 with 1 Axes>",
      "image/svg+xml": "<?xml version=\"1.0\" encoding=\"utf-8\" standalone=\"no\"?>\n<!DOCTYPE svg PUBLIC \"-//W3C//DTD SVG 1.1//EN\"\n  \"http://www.w3.org/Graphics/SVG/1.1/DTD/svg11.dtd\">\n<!-- Created with matplotlib (https://matplotlib.org/) -->\n<svg height=\"306.65625pt\" version=\"1.1\" viewBox=\"0 0 368.026406 306.65625\" width=\"368.026406pt\" xmlns=\"http://www.w3.org/2000/svg\" xmlns:xlink=\"http://www.w3.org/1999/xlink\">\n <metadata>\n  <rdf:RDF xmlns:cc=\"http://creativecommons.org/ns#\" xmlns:dc=\"http://purl.org/dc/elements/1.1/\" xmlns:rdf=\"http://www.w3.org/1999/02/22-rdf-syntax-ns#\">\n   <cc:Work>\n    <dc:type rdf:resource=\"http://purl.org/dc/dcmitype/StillImage\"/>\n    <dc:date>2021-06-15T18:59:04.216284</dc:date>\n    <dc:format>image/svg+xml</dc:format>\n    <dc:creator>\n     <cc:Agent>\n      <dc:title>Matplotlib v3.3.4, https://matplotlib.org/</dc:title>\n     </cc:Agent>\n    </dc:creator>\n   </cc:Work>\n  </rdf:RDF>\n </metadata>\n <defs>\n  <style type=\"text/css\">*{stroke-linecap:butt;stroke-linejoin:round;}</style>\n </defs>\n <g id=\"figure_1\">\n  <g id=\"patch_1\">\n   <path d=\"M 0 306.65625 \nL 368.026406 306.65625 \nL 368.026406 0 \nL 0 0 \nz\n\" style=\"fill:none;\"/>\n  </g>\n  <g id=\"axes_1\">\n   <g id=\"patch_2\">\n    <path d=\"M 81.096875 295.95625 \nL 352.896875 295.95625 \nL 352.896875 24.15625 \nL 81.096875 24.15625 \nz\n\" style=\"fill:#ffffff;\"/>\n   </g>\n   <g clip-path=\"url(#p3f276e65a1)\">\n    <image height=\"272\" id=\"image1f4bc0d392\" transform=\"scale(1 -1)translate(0 -272)\" width=\"272\" x=\"81.096875\" xlink:href=\"data:image/png;base64,\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\" y=\"-23.95625\"/>\n   </g>\n   <g id=\"matplotlib.axis_1\">\n    <g id=\"xtick_1\">\n     <g id=\"line2d_1\">\n      <defs>\n       <path d=\"M 0 0 \nL 0 3.5 \n\" id=\"m0801040da4\" style=\"stroke:#000000;stroke-width:0.8;\"/>\n      </defs>\n      <g>\n       <use style=\"stroke:#000000;stroke-width:0.8;\" x=\"94.686875\" xlink:href=\"#m0801040da4\" y=\"295.95625\"/>\n      </g>\n     </g>\n     <g id=\"line2d_2\">\n      <defs>\n       <path d=\"M 0 0 \nL 0 -3.5 \n\" id=\"m828780affe\" style=\"stroke:#000000;stroke-width:0.8;\"/>\n      </defs>\n      <g>\n       <use style=\"stroke:#000000;stroke-width:0.8;\" x=\"94.686875\" xlink:href=\"#m828780affe\" y=\"24.15625\"/>\n      </g>\n     </g>\n     <g id=\"text_1\">\n      <!-- num_preg -->\n      <g transform=\"translate(69.611094 14.798437)scale(0.1 -0.1)\">\n       <defs>\n        <path d=\"M 54.890625 33.015625 \nL 54.890625 0 \nL 45.90625 0 \nL 45.90625 32.71875 \nQ 45.90625 40.484375 42.875 44.328125 \nQ 39.84375 48.1875 33.796875 48.1875 \nQ 26.515625 48.1875 22.3125 43.546875 \nQ 18.109375 38.921875 18.109375 30.90625 \nL 18.109375 0 \nL 9.078125 0 \nL 9.078125 54.6875 \nL 18.109375 54.6875 \nL 18.109375 46.1875 \nQ 21.34375 51.125 25.703125 53.5625 \nQ 30.078125 56 35.796875 56 \nQ 45.21875 56 50.046875 50.171875 \nQ 54.890625 44.34375 54.890625 33.015625 \nz\n\" id=\"DejaVuSans-110\"/>\n        <path d=\"M 8.5 21.578125 \nL 8.5 54.6875 \nL 17.484375 54.6875 \nL 17.484375 21.921875 \nQ 17.484375 14.15625 20.5 10.265625 \nQ 23.53125 6.390625 29.59375 6.390625 \nQ 36.859375 6.390625 41.078125 11.03125 \nQ 45.3125 15.671875 45.3125 23.6875 \nL 45.3125 54.6875 \nL 54.296875 54.6875 \nL 54.296875 0 \nL 45.3125 0 \nL 45.3125 8.40625 \nQ 42.046875 3.421875 37.71875 1 \nQ 33.40625 -1.421875 27.6875 -1.421875 \nQ 18.265625 -1.421875 13.375 4.4375 \nQ 8.5 10.296875 8.5 21.578125 \nz\nM 31.109375 56 \nz\n\" id=\"DejaVuSans-117\"/>\n        <path d=\"M 52 44.1875 \nQ 55.375 50.25 60.0625 53.125 \nQ 64.75 56 71.09375 56 \nQ 79.640625 56 84.28125 50.015625 \nQ 88.921875 44.046875 88.921875 33.015625 \nL 88.921875 0 \nL 79.890625 0 \nL 79.890625 32.71875 \nQ 79.890625 40.578125 77.09375 44.375 \nQ 74.3125 48.1875 68.609375 48.1875 \nQ 61.625 48.1875 57.5625 43.546875 \nQ 53.515625 38.921875 53.515625 30.90625 \nL 53.515625 0 \nL 44.484375 0 \nL 44.484375 32.71875 \nQ 44.484375 40.625 41.703125 44.40625 \nQ 38.921875 48.1875 33.109375 48.1875 \nQ 26.21875 48.1875 22.15625 43.53125 \nQ 18.109375 38.875 18.109375 30.90625 \nL 18.109375 0 \nL 9.078125 0 \nL 9.078125 54.6875 \nL 18.109375 54.6875 \nL 18.109375 46.1875 \nQ 21.1875 51.21875 25.484375 53.609375 \nQ 29.78125 56 35.6875 56 \nQ 41.65625 56 45.828125 52.96875 \nQ 50 49.953125 52 44.1875 \nz\n\" id=\"DejaVuSans-109\"/>\n        <path d=\"M 50.984375 -16.609375 \nL 50.984375 -23.578125 \nL -0.984375 -23.578125 \nL -0.984375 -16.609375 \nz\n\" id=\"DejaVuSans-95\"/>\n        <path d=\"M 18.109375 8.203125 \nL 18.109375 -20.796875 \nL 9.078125 -20.796875 \nL 9.078125 54.6875 \nL 18.109375 54.6875 \nL 18.109375 46.390625 \nQ 20.953125 51.265625 25.265625 53.625 \nQ 29.59375 56 35.59375 56 \nQ 45.5625 56 51.78125 48.09375 \nQ 58.015625 40.1875 58.015625 27.296875 \nQ 58.015625 14.40625 51.78125 6.484375 \nQ 45.5625 -1.421875 35.59375 -1.421875 \nQ 29.59375 -1.421875 25.265625 0.953125 \nQ 20.953125 3.328125 18.109375 8.203125 \nz\nM 48.6875 27.296875 \nQ 48.6875 37.203125 44.609375 42.84375 \nQ 40.53125 48.484375 33.40625 48.484375 \nQ 26.265625 48.484375 22.1875 42.84375 \nQ 18.109375 37.203125 18.109375 27.296875 \nQ 18.109375 17.390625 22.1875 11.75 \nQ 26.265625 6.109375 33.40625 6.109375 \nQ 40.53125 6.109375 44.609375 11.75 \nQ 48.6875 17.390625 48.6875 27.296875 \nz\n\" id=\"DejaVuSans-112\"/>\n        <path d=\"M 41.109375 46.296875 \nQ 39.59375 47.171875 37.8125 47.578125 \nQ 36.03125 48 33.890625 48 \nQ 26.265625 48 22.1875 43.046875 \nQ 18.109375 38.09375 18.109375 28.8125 \nL 18.109375 0 \nL 9.078125 0 \nL 9.078125 54.6875 \nL 18.109375 54.6875 \nL 18.109375 46.1875 \nQ 20.953125 51.171875 25.484375 53.578125 \nQ 30.03125 56 36.53125 56 \nQ 37.453125 56 38.578125 55.875 \nQ 39.703125 55.765625 41.0625 55.515625 \nz\n\" id=\"DejaVuSans-114\"/>\n        <path d=\"M 56.203125 29.59375 \nL 56.203125 25.203125 \nL 14.890625 25.203125 \nQ 15.484375 15.921875 20.484375 11.0625 \nQ 25.484375 6.203125 34.421875 6.203125 \nQ 39.59375 6.203125 44.453125 7.46875 \nQ 49.3125 8.734375 54.109375 11.28125 \nL 54.109375 2.78125 \nQ 49.265625 0.734375 44.1875 -0.34375 \nQ 39.109375 -1.421875 33.890625 -1.421875 \nQ 20.796875 -1.421875 13.15625 6.1875 \nQ 5.515625 13.8125 5.515625 26.8125 \nQ 5.515625 40.234375 12.765625 48.109375 \nQ 20.015625 56 32.328125 56 \nQ 43.359375 56 49.78125 48.890625 \nQ 56.203125 41.796875 56.203125 29.59375 \nz\nM 47.21875 32.234375 \nQ 47.125 39.59375 43.09375 43.984375 \nQ 39.0625 48.390625 32.421875 48.390625 \nQ 24.90625 48.390625 20.390625 44.140625 \nQ 15.875 39.890625 15.1875 32.171875 \nz\n\" id=\"DejaVuSans-101\"/>\n        <path d=\"M 45.40625 27.984375 \nQ 45.40625 37.75 41.375 43.109375 \nQ 37.359375 48.484375 30.078125 48.484375 \nQ 22.859375 48.484375 18.828125 43.109375 \nQ 14.796875 37.75 14.796875 27.984375 \nQ 14.796875 18.265625 18.828125 12.890625 \nQ 22.859375 7.515625 30.078125 7.515625 \nQ 37.359375 7.515625 41.375 12.890625 \nQ 45.40625 18.265625 45.40625 27.984375 \nz\nM 54.390625 6.78125 \nQ 54.390625 -7.171875 48.1875 -13.984375 \nQ 42 -20.796875 29.203125 -20.796875 \nQ 24.46875 -20.796875 20.265625 -20.09375 \nQ 16.0625 -19.390625 12.109375 -17.921875 \nL 12.109375 -9.1875 \nQ 16.0625 -11.328125 19.921875 -12.34375 \nQ 23.78125 -13.375 27.78125 -13.375 \nQ 36.625 -13.375 41.015625 -8.765625 \nQ 45.40625 -4.15625 45.40625 5.171875 \nL 45.40625 9.625 \nQ 42.625 4.78125 38.28125 2.390625 \nQ 33.9375 0 27.875 0 \nQ 17.828125 0 11.671875 7.65625 \nQ 5.515625 15.328125 5.515625 27.984375 \nQ 5.515625 40.671875 11.671875 48.328125 \nQ 17.828125 56 27.875 56 \nQ 33.9375 56 38.28125 53.609375 \nQ 42.625 51.21875 45.40625 46.390625 \nL 45.40625 54.6875 \nL 54.390625 54.6875 \nz\n\" id=\"DejaVuSans-103\"/>\n       </defs>\n       <use xlink:href=\"#DejaVuSans-110\"/>\n       <use x=\"63.378906\" xlink:href=\"#DejaVuSans-117\"/>\n       <use x=\"126.757812\" xlink:href=\"#DejaVuSans-109\"/>\n       <use x=\"224.169922\" xlink:href=\"#DejaVuSans-95\"/>\n       <use x=\"274.169922\" xlink:href=\"#DejaVuSans-112\"/>\n       <use x=\"337.646484\" xlink:href=\"#DejaVuSans-114\"/>\n       <use x=\"376.509766\" xlink:href=\"#DejaVuSans-101\"/>\n       <use x=\"438.033203\" xlink:href=\"#DejaVuSans-103\"/>\n      </g>\n     </g>\n    </g>\n    <g id=\"xtick_2\">\n     <g id=\"line2d_3\">\n      <g>\n       <use style=\"stroke:#000000;stroke-width:0.8;\" x=\"121.866875\" xlink:href=\"#m0801040da4\" y=\"295.95625\"/>\n      </g>\n     </g>\n     <g id=\"line2d_4\">\n      <g>\n       <use style=\"stroke:#000000;stroke-width:0.8;\" x=\"121.866875\" xlink:href=\"#m828780affe\" y=\"24.15625\"/>\n      </g>\n     </g>\n     <g id=\"text_2\">\n      <!-- glucose_conc -->\n      <g transform=\"translate(88.418438 14.798437)scale(0.1 -0.1)\">\n       <defs>\n        <path d=\"M 9.421875 75.984375 \nL 18.40625 75.984375 \nL 18.40625 0 \nL 9.421875 0 \nz\n\" id=\"DejaVuSans-108\"/>\n        <path d=\"M 48.78125 52.59375 \nL 48.78125 44.1875 \nQ 44.96875 46.296875 41.140625 47.34375 \nQ 37.3125 48.390625 33.40625 48.390625 \nQ 24.65625 48.390625 19.8125 42.84375 \nQ 14.984375 37.3125 14.984375 27.296875 \nQ 14.984375 17.28125 19.8125 11.734375 \nQ 24.65625 6.203125 33.40625 6.203125 \nQ 37.3125 6.203125 41.140625 7.25 \nQ 44.96875 8.296875 48.78125 10.40625 \nL 48.78125 2.09375 \nQ 45.015625 0.34375 40.984375 -0.53125 \nQ 36.96875 -1.421875 32.421875 -1.421875 \nQ 20.0625 -1.421875 12.78125 6.34375 \nQ 5.515625 14.109375 5.515625 27.296875 \nQ 5.515625 40.671875 12.859375 48.328125 \nQ 20.21875 56 33.015625 56 \nQ 37.15625 56 41.109375 55.140625 \nQ 45.0625 54.296875 48.78125 52.59375 \nz\n\" id=\"DejaVuSans-99\"/>\n        <path d=\"M 30.609375 48.390625 \nQ 23.390625 48.390625 19.1875 42.75 \nQ 14.984375 37.109375 14.984375 27.296875 \nQ 14.984375 17.484375 19.15625 11.84375 \nQ 23.34375 6.203125 30.609375 6.203125 \nQ 37.796875 6.203125 41.984375 11.859375 \nQ 46.1875 17.53125 46.1875 27.296875 \nQ 46.1875 37.015625 41.984375 42.703125 \nQ 37.796875 48.390625 30.609375 48.390625 \nz\nM 30.609375 56 \nQ 42.328125 56 49.015625 48.375 \nQ 55.71875 40.765625 55.71875 27.296875 \nQ 55.71875 13.875 49.015625 6.21875 \nQ 42.328125 -1.421875 30.609375 -1.421875 \nQ 18.84375 -1.421875 12.171875 6.21875 \nQ 5.515625 13.875 5.515625 27.296875 \nQ 5.515625 40.765625 12.171875 48.375 \nQ 18.84375 56 30.609375 56 \nz\n\" id=\"DejaVuSans-111\"/>\n        <path d=\"M 44.28125 53.078125 \nL 44.28125 44.578125 \nQ 40.484375 46.53125 36.375 47.5 \nQ 32.28125 48.484375 27.875 48.484375 \nQ 21.1875 48.484375 17.84375 46.4375 \nQ 14.5 44.390625 14.5 40.28125 \nQ 14.5 37.15625 16.890625 35.375 \nQ 19.28125 33.59375 26.515625 31.984375 \nL 29.59375 31.296875 \nQ 39.15625 29.25 43.1875 25.515625 \nQ 47.21875 21.78125 47.21875 15.09375 \nQ 47.21875 7.46875 41.1875 3.015625 \nQ 35.15625 -1.421875 24.609375 -1.421875 \nQ 20.21875 -1.421875 15.453125 -0.5625 \nQ 10.6875 0.296875 5.421875 2 \nL 5.421875 11.28125 \nQ 10.40625 8.6875 15.234375 7.390625 \nQ 20.0625 6.109375 24.8125 6.109375 \nQ 31.15625 6.109375 34.5625 8.28125 \nQ 37.984375 10.453125 37.984375 14.40625 \nQ 37.984375 18.0625 35.515625 20.015625 \nQ 33.0625 21.96875 24.703125 23.78125 \nL 21.578125 24.515625 \nQ 13.234375 26.265625 9.515625 29.90625 \nQ 5.8125 33.546875 5.8125 39.890625 \nQ 5.8125 47.609375 11.28125 51.796875 \nQ 16.75 56 26.8125 56 \nQ 31.78125 56 36.171875 55.265625 \nQ 40.578125 54.546875 44.28125 53.078125 \nz\n\" id=\"DejaVuSans-115\"/>\n       </defs>\n       <use xlink:href=\"#DejaVuSans-103\"/>\n       <use x=\"63.476562\" xlink:href=\"#DejaVuSans-108\"/>\n       <use x=\"91.259766\" xlink:href=\"#DejaVuSans-117\"/>\n       <use x=\"154.638672\" xlink:href=\"#DejaVuSans-99\"/>\n       <use x=\"209.619141\" xlink:href=\"#DejaVuSans-111\"/>\n       <use x=\"270.800781\" xlink:href=\"#DejaVuSans-115\"/>\n       <use x=\"322.900391\" xlink:href=\"#DejaVuSans-101\"/>\n       <use x=\"384.423828\" xlink:href=\"#DejaVuSans-95\"/>\n       <use x=\"434.423828\" xlink:href=\"#DejaVuSans-99\"/>\n       <use x=\"489.404297\" xlink:href=\"#DejaVuSans-111\"/>\n       <use x=\"550.585938\" xlink:href=\"#DejaVuSans-110\"/>\n       <use x=\"613.964844\" xlink:href=\"#DejaVuSans-99\"/>\n      </g>\n     </g>\n    </g>\n    <g id=\"xtick_3\">\n     <g id=\"line2d_5\">\n      <g>\n       <use style=\"stroke:#000000;stroke-width:0.8;\" x=\"149.046875\" xlink:href=\"#m0801040da4\" y=\"295.95625\"/>\n      </g>\n     </g>\n     <g id=\"line2d_6\">\n      <g>\n       <use style=\"stroke:#000000;stroke-width:0.8;\" x=\"149.046875\" xlink:href=\"#m828780affe\" y=\"24.15625\"/>\n      </g>\n     </g>\n     <g id=\"text_3\">\n      <!-- diastolic_bp -->\n      <g transform=\"translate(119.419531 14.798437)scale(0.1 -0.1)\">\n       <defs>\n        <path d=\"M 45.40625 46.390625 \nL 45.40625 75.984375 \nL 54.390625 75.984375 \nL 54.390625 0 \nL 45.40625 0 \nL 45.40625 8.203125 \nQ 42.578125 3.328125 38.25 0.953125 \nQ 33.9375 -1.421875 27.875 -1.421875 \nQ 17.96875 -1.421875 11.734375 6.484375 \nQ 5.515625 14.40625 5.515625 27.296875 \nQ 5.515625 40.1875 11.734375 48.09375 \nQ 17.96875 56 27.875 56 \nQ 33.9375 56 38.25 53.625 \nQ 42.578125 51.265625 45.40625 46.390625 \nz\nM 14.796875 27.296875 \nQ 14.796875 17.390625 18.875 11.75 \nQ 22.953125 6.109375 30.078125 6.109375 \nQ 37.203125 6.109375 41.296875 11.75 \nQ 45.40625 17.390625 45.40625 27.296875 \nQ 45.40625 37.203125 41.296875 42.84375 \nQ 37.203125 48.484375 30.078125 48.484375 \nQ 22.953125 48.484375 18.875 42.84375 \nQ 14.796875 37.203125 14.796875 27.296875 \nz\n\" id=\"DejaVuSans-100\"/>\n        <path d=\"M 9.421875 54.6875 \nL 18.40625 54.6875 \nL 18.40625 0 \nL 9.421875 0 \nz\nM 9.421875 75.984375 \nL 18.40625 75.984375 \nL 18.40625 64.59375 \nL 9.421875 64.59375 \nz\n\" id=\"DejaVuSans-105\"/>\n        <path d=\"M 34.28125 27.484375 \nQ 23.390625 27.484375 19.1875 25 \nQ 14.984375 22.515625 14.984375 16.5 \nQ 14.984375 11.71875 18.140625 8.90625 \nQ 21.296875 6.109375 26.703125 6.109375 \nQ 34.1875 6.109375 38.703125 11.40625 \nQ 43.21875 16.703125 43.21875 25.484375 \nL 43.21875 27.484375 \nz\nM 52.203125 31.203125 \nL 52.203125 0 \nL 43.21875 0 \nL 43.21875 8.296875 \nQ 40.140625 3.328125 35.546875 0.953125 \nQ 30.953125 -1.421875 24.3125 -1.421875 \nQ 15.921875 -1.421875 10.953125 3.296875 \nQ 6 8.015625 6 15.921875 \nQ 6 25.140625 12.171875 29.828125 \nQ 18.359375 34.515625 30.609375 34.515625 \nL 43.21875 34.515625 \nL 43.21875 35.40625 \nQ 43.21875 41.609375 39.140625 45 \nQ 35.0625 48.390625 27.6875 48.390625 \nQ 23 48.390625 18.546875 47.265625 \nQ 14.109375 46.140625 10.015625 43.890625 \nL 10.015625 52.203125 \nQ 14.9375 54.109375 19.578125 55.046875 \nQ 24.21875 56 28.609375 56 \nQ 40.484375 56 46.34375 49.84375 \nQ 52.203125 43.703125 52.203125 31.203125 \nz\n\" id=\"DejaVuSans-97\"/>\n        <path d=\"M 18.3125 70.21875 \nL 18.3125 54.6875 \nL 36.8125 54.6875 \nL 36.8125 47.703125 \nL 18.3125 47.703125 \nL 18.3125 18.015625 \nQ 18.3125 11.328125 20.140625 9.421875 \nQ 21.96875 7.515625 27.59375 7.515625 \nL 36.8125 7.515625 \nL 36.8125 0 \nL 27.59375 0 \nQ 17.1875 0 13.234375 3.875 \nQ 9.28125 7.765625 9.28125 18.015625 \nL 9.28125 47.703125 \nL 2.6875 47.703125 \nL 2.6875 54.6875 \nL 9.28125 54.6875 \nL 9.28125 70.21875 \nz\n\" id=\"DejaVuSans-116\"/>\n        <path d=\"M 48.6875 27.296875 \nQ 48.6875 37.203125 44.609375 42.84375 \nQ 40.53125 48.484375 33.40625 48.484375 \nQ 26.265625 48.484375 22.1875 42.84375 \nQ 18.109375 37.203125 18.109375 27.296875 \nQ 18.109375 17.390625 22.1875 11.75 \nQ 26.265625 6.109375 33.40625 6.109375 \nQ 40.53125 6.109375 44.609375 11.75 \nQ 48.6875 17.390625 48.6875 27.296875 \nz\nM 18.109375 46.390625 \nQ 20.953125 51.265625 25.265625 53.625 \nQ 29.59375 56 35.59375 56 \nQ 45.5625 56 51.78125 48.09375 \nQ 58.015625 40.1875 58.015625 27.296875 \nQ 58.015625 14.40625 51.78125 6.484375 \nQ 45.5625 -1.421875 35.59375 -1.421875 \nQ 29.59375 -1.421875 25.265625 0.953125 \nQ 20.953125 3.328125 18.109375 8.203125 \nL 18.109375 0 \nL 9.078125 0 \nL 9.078125 75.984375 \nL 18.109375 75.984375 \nz\n\" id=\"DejaVuSans-98\"/>\n       </defs>\n       <use xlink:href=\"#DejaVuSans-100\"/>\n       <use x=\"63.476562\" xlink:href=\"#DejaVuSans-105\"/>\n       <use x=\"91.259766\" xlink:href=\"#DejaVuSans-97\"/>\n       <use x=\"152.539062\" xlink:href=\"#DejaVuSans-115\"/>\n       <use x=\"204.638672\" xlink:href=\"#DejaVuSans-116\"/>\n       <use x=\"243.847656\" xlink:href=\"#DejaVuSans-111\"/>\n       <use x=\"305.029297\" xlink:href=\"#DejaVuSans-108\"/>\n       <use x=\"332.8125\" xlink:href=\"#DejaVuSans-105\"/>\n       <use x=\"360.595703\" xlink:href=\"#DejaVuSans-99\"/>\n       <use x=\"415.576172\" xlink:href=\"#DejaVuSans-95\"/>\n       <use x=\"465.576172\" xlink:href=\"#DejaVuSans-98\"/>\n       <use x=\"529.052734\" xlink:href=\"#DejaVuSans-112\"/>\n      </g>\n     </g>\n    </g>\n    <g id=\"xtick_4\">\n     <g id=\"line2d_7\">\n      <g>\n       <use style=\"stroke:#000000;stroke-width:0.8;\" x=\"176.226875\" xlink:href=\"#m0801040da4\" y=\"295.95625\"/>\n      </g>\n     </g>\n     <g id=\"line2d_8\">\n      <g>\n       <use style=\"stroke:#000000;stroke-width:0.8;\" x=\"176.226875\" xlink:href=\"#m828780affe\" y=\"24.15625\"/>\n      </g>\n     </g>\n     <g id=\"text_4\">\n      <!-- thickness -->\n      <g transform=\"translate(152.609688 15.076563)scale(0.1 -0.1)\">\n       <defs>\n        <path d=\"M 54.890625 33.015625 \nL 54.890625 0 \nL 45.90625 0 \nL 45.90625 32.71875 \nQ 45.90625 40.484375 42.875 44.328125 \nQ 39.84375 48.1875 33.796875 48.1875 \nQ 26.515625 48.1875 22.3125 43.546875 \nQ 18.109375 38.921875 18.109375 30.90625 \nL 18.109375 0 \nL 9.078125 0 \nL 9.078125 75.984375 \nL 18.109375 75.984375 \nL 18.109375 46.1875 \nQ 21.34375 51.125 25.703125 53.5625 \nQ 30.078125 56 35.796875 56 \nQ 45.21875 56 50.046875 50.171875 \nQ 54.890625 44.34375 54.890625 33.015625 \nz\n\" id=\"DejaVuSans-104\"/>\n        <path d=\"M 9.078125 75.984375 \nL 18.109375 75.984375 \nL 18.109375 31.109375 \nL 44.921875 54.6875 \nL 56.390625 54.6875 \nL 27.390625 29.109375 \nL 57.625 0 \nL 45.90625 0 \nL 18.109375 26.703125 \nL 18.109375 0 \nL 9.078125 0 \nz\n\" id=\"DejaVuSans-107\"/>\n       </defs>\n       <use xlink:href=\"#DejaVuSans-116\"/>\n       <use x=\"39.208984\" xlink:href=\"#DejaVuSans-104\"/>\n       <use x=\"102.587891\" xlink:href=\"#DejaVuSans-105\"/>\n       <use x=\"130.371094\" xlink:href=\"#DejaVuSans-99\"/>\n       <use x=\"185.351562\" xlink:href=\"#DejaVuSans-107\"/>\n       <use x=\"243.261719\" xlink:href=\"#DejaVuSans-110\"/>\n       <use x=\"306.640625\" xlink:href=\"#DejaVuSans-101\"/>\n       <use x=\"368.164062\" xlink:href=\"#DejaVuSans-115\"/>\n       <use x=\"420.263672\" xlink:href=\"#DejaVuSans-115\"/>\n      </g>\n     </g>\n    </g>\n    <g id=\"xtick_5\">\n     <g id=\"line2d_9\">\n      <g>\n       <use style=\"stroke:#000000;stroke-width:0.8;\" x=\"203.406875\" xlink:href=\"#m0801040da4\" y=\"295.95625\"/>\n      </g>\n     </g>\n     <g id=\"line2d_10\">\n      <g>\n       <use style=\"stroke:#000000;stroke-width:0.8;\" x=\"203.406875\" xlink:href=\"#m828780affe\" y=\"24.15625\"/>\n      </g>\n     </g>\n     <g id=\"text_5\">\n      <!-- insulin -->\n      <g transform=\"translate(187.12875 15.076563)scale(0.1 -0.1)\">\n       <use xlink:href=\"#DejaVuSans-105\"/>\n       <use x=\"27.783203\" xlink:href=\"#DejaVuSans-110\"/>\n       <use x=\"91.162109\" xlink:href=\"#DejaVuSans-115\"/>\n       <use x=\"143.261719\" xlink:href=\"#DejaVuSans-117\"/>\n       <use x=\"206.640625\" xlink:href=\"#DejaVuSans-108\"/>\n       <use x=\"234.423828\" xlink:href=\"#DejaVuSans-105\"/>\n       <use x=\"262.207031\" xlink:href=\"#DejaVuSans-110\"/>\n      </g>\n     </g>\n    </g>\n    <g id=\"xtick_6\">\n     <g id=\"line2d_11\">\n      <g>\n       <use style=\"stroke:#000000;stroke-width:0.8;\" x=\"230.586875\" xlink:href=\"#m0801040da4\" y=\"295.95625\"/>\n      </g>\n     </g>\n     <g id=\"line2d_12\">\n      <g>\n       <use style=\"stroke:#000000;stroke-width:0.8;\" x=\"230.586875\" xlink:href=\"#m828780affe\" y=\"24.15625\"/>\n      </g>\n     </g>\n     <g id=\"text_6\">\n      <!-- bmi -->\n      <g transform=\"translate(221.153281 15.076563)scale(0.1 -0.1)\">\n       <use xlink:href=\"#DejaVuSans-98\"/>\n       <use x=\"63.476562\" xlink:href=\"#DejaVuSans-109\"/>\n       <use x=\"160.888672\" xlink:href=\"#DejaVuSans-105\"/>\n      </g>\n     </g>\n    </g>\n    <g id=\"xtick_7\">\n     <g id=\"line2d_13\">\n      <g>\n       <use style=\"stroke:#000000;stroke-width:0.8;\" x=\"257.766875\" xlink:href=\"#m0801040da4\" y=\"295.95625\"/>\n      </g>\n     </g>\n     <g id=\"line2d_14\">\n      <g>\n       <use style=\"stroke:#000000;stroke-width:0.8;\" x=\"257.766875\" xlink:href=\"#m828780affe\" y=\"24.15625\"/>\n      </g>\n     </g>\n     <g id=\"text_7\">\n      <!-- diab_pred -->\n      <g transform=\"translate(233.097344 14.798437)scale(0.1 -0.1)\">\n       <use xlink:href=\"#DejaVuSans-100\"/>\n       <use x=\"63.476562\" xlink:href=\"#DejaVuSans-105\"/>\n       <use x=\"91.259766\" xlink:href=\"#DejaVuSans-97\"/>\n       <use x=\"152.539062\" xlink:href=\"#DejaVuSans-98\"/>\n       <use x=\"216.015625\" xlink:href=\"#DejaVuSans-95\"/>\n       <use x=\"266.015625\" xlink:href=\"#DejaVuSans-112\"/>\n       <use x=\"329.492188\" xlink:href=\"#DejaVuSans-114\"/>\n       <use x=\"368.355469\" xlink:href=\"#DejaVuSans-101\"/>\n       <use x=\"429.878906\" xlink:href=\"#DejaVuSans-100\"/>\n      </g>\n     </g>\n    </g>\n    <g id=\"xtick_8\">\n     <g id=\"line2d_15\">\n      <g>\n       <use style=\"stroke:#000000;stroke-width:0.8;\" x=\"284.946875\" xlink:href=\"#m0801040da4\" y=\"295.95625\"/>\n      </g>\n     </g>\n     <g id=\"line2d_16\">\n      <g>\n       <use style=\"stroke:#000000;stroke-width:0.8;\" x=\"284.946875\" xlink:href=\"#m828780affe\" y=\"24.15625\"/>\n      </g>\n     </g>\n     <g id=\"text_8\">\n      <!-- age -->\n      <g transform=\"translate(275.632031 15.076563)scale(0.1 -0.1)\">\n       <use xlink:href=\"#DejaVuSans-97\"/>\n       <use x=\"61.279297\" xlink:href=\"#DejaVuSans-103\"/>\n       <use x=\"124.755859\" xlink:href=\"#DejaVuSans-101\"/>\n      </g>\n     </g>\n    </g>\n    <g id=\"xtick_9\">\n     <g id=\"line2d_17\">\n      <g>\n       <use style=\"stroke:#000000;stroke-width:0.8;\" x=\"312.126875\" xlink:href=\"#m0801040da4\" y=\"295.95625\"/>\n      </g>\n     </g>\n     <g id=\"line2d_18\">\n      <g>\n       <use style=\"stroke:#000000;stroke-width:0.8;\" x=\"312.126875\" xlink:href=\"#m828780affe\" y=\"24.15625\"/>\n      </g>\n     </g>\n     <g id=\"text_9\">\n      <!-- skin -->\n      <g transform=\"translate(302.069062 15.076563)scale(0.1 -0.1)\">\n       <use xlink:href=\"#DejaVuSans-115\"/>\n       <use x=\"52.099609\" xlink:href=\"#DejaVuSans-107\"/>\n       <use x=\"110.009766\" xlink:href=\"#DejaVuSans-105\"/>\n       <use x=\"137.792969\" xlink:href=\"#DejaVuSans-110\"/>\n      </g>\n     </g>\n    </g>\n    <g id=\"xtick_10\">\n     <g id=\"line2d_19\">\n      <g>\n       <use style=\"stroke:#000000;stroke-width:0.8;\" x=\"339.306875\" xlink:href=\"#m0801040da4\" y=\"295.95625\"/>\n      </g>\n     </g>\n     <g id=\"line2d_20\">\n      <g>\n       <use style=\"stroke:#000000;stroke-width:0.8;\" x=\"339.306875\" xlink:href=\"#m828780affe\" y=\"24.15625\"/>\n      </g>\n     </g>\n     <g id=\"text_10\">\n      <!-- diabetes -->\n      <g transform=\"translate(317.787344 15.076563)scale(0.1 -0.1)\">\n       <use xlink:href=\"#DejaVuSans-100\"/>\n       <use x=\"63.476562\" xlink:href=\"#DejaVuSans-105\"/>\n       <use x=\"91.259766\" xlink:href=\"#DejaVuSans-97\"/>\n       <use x=\"152.539062\" xlink:href=\"#DejaVuSans-98\"/>\n       <use x=\"216.015625\" xlink:href=\"#DejaVuSans-101\"/>\n       <use x=\"277.539062\" xlink:href=\"#DejaVuSans-116\"/>\n       <use x=\"316.748047\" xlink:href=\"#DejaVuSans-101\"/>\n       <use x=\"378.271484\" xlink:href=\"#DejaVuSans-115\"/>\n      </g>\n     </g>\n    </g>\n   </g>\n   <g id=\"matplotlib.axis_2\">\n    <g id=\"ytick_1\">\n     <g id=\"line2d_21\">\n      <defs>\n       <path d=\"M 0 0 \nL -3.5 0 \n\" id=\"m1acf4f0352\" style=\"stroke:#000000;stroke-width:0.8;\"/>\n      </defs>\n      <g>\n       <use style=\"stroke:#000000;stroke-width:0.8;\" x=\"81.096875\" xlink:href=\"#m1acf4f0352\" y=\"37.74625\"/>\n      </g>\n     </g>\n     <g id=\"text_11\">\n      <!-- num_preg -->\n      <g transform=\"translate(23.945313 41.406406)scale(0.1 -0.1)\">\n       <use xlink:href=\"#DejaVuSans-110\"/>\n       <use x=\"63.378906\" xlink:href=\"#DejaVuSans-117\"/>\n       <use x=\"126.757812\" xlink:href=\"#DejaVuSans-109\"/>\n       <use x=\"224.169922\" xlink:href=\"#DejaVuSans-95\"/>\n       <use x=\"274.169922\" xlink:href=\"#DejaVuSans-112\"/>\n       <use x=\"337.646484\" xlink:href=\"#DejaVuSans-114\"/>\n       <use x=\"376.509766\" xlink:href=\"#DejaVuSans-101\"/>\n       <use x=\"438.033203\" xlink:href=\"#DejaVuSans-103\"/>\n      </g>\n     </g>\n    </g>\n    <g id=\"ytick_2\">\n     <g id=\"line2d_22\">\n      <g>\n       <use style=\"stroke:#000000;stroke-width:0.8;\" x=\"81.096875\" xlink:href=\"#m1acf4f0352\" y=\"64.92625\"/>\n      </g>\n     </g>\n     <g id=\"text_12\">\n      <!-- glucose_conc -->\n      <g transform=\"translate(7.2 68.725469)scale(0.1 -0.1)\">\n       <use xlink:href=\"#DejaVuSans-103\"/>\n       <use x=\"63.476562\" xlink:href=\"#DejaVuSans-108\"/>\n       <use x=\"91.259766\" xlink:href=\"#DejaVuSans-117\"/>\n       <use x=\"154.638672\" xlink:href=\"#DejaVuSans-99\"/>\n       <use x=\"209.619141\" xlink:href=\"#DejaVuSans-111\"/>\n       <use x=\"270.800781\" xlink:href=\"#DejaVuSans-115\"/>\n       <use x=\"322.900391\" xlink:href=\"#DejaVuSans-101\"/>\n       <use x=\"384.423828\" xlink:href=\"#DejaVuSans-95\"/>\n       <use x=\"434.423828\" xlink:href=\"#DejaVuSans-99\"/>\n       <use x=\"489.404297\" xlink:href=\"#DejaVuSans-111\"/>\n       <use x=\"550.585938\" xlink:href=\"#DejaVuSans-110\"/>\n       <use x=\"613.964844\" xlink:href=\"#DejaVuSans-99\"/>\n      </g>\n     </g>\n    </g>\n    <g id=\"ytick_3\">\n     <g id=\"line2d_23\">\n      <g>\n       <use style=\"stroke:#000000;stroke-width:0.8;\" x=\"81.096875\" xlink:href=\"#m1acf4f0352\" y=\"92.10625\"/>\n      </g>\n     </g>\n     <g id=\"text_13\">\n      <!-- diastolic_bp -->\n      <g transform=\"translate(14.842188 95.905469)scale(0.1 -0.1)\">\n       <use xlink:href=\"#DejaVuSans-100\"/>\n       <use x=\"63.476562\" xlink:href=\"#DejaVuSans-105\"/>\n       <use x=\"91.259766\" xlink:href=\"#DejaVuSans-97\"/>\n       <use x=\"152.539062\" xlink:href=\"#DejaVuSans-115\"/>\n       <use x=\"204.638672\" xlink:href=\"#DejaVuSans-116\"/>\n       <use x=\"243.847656\" xlink:href=\"#DejaVuSans-111\"/>\n       <use x=\"305.029297\" xlink:href=\"#DejaVuSans-108\"/>\n       <use x=\"332.8125\" xlink:href=\"#DejaVuSans-105\"/>\n       <use x=\"360.595703\" xlink:href=\"#DejaVuSans-99\"/>\n       <use x=\"415.576172\" xlink:href=\"#DejaVuSans-95\"/>\n       <use x=\"465.576172\" xlink:href=\"#DejaVuSans-98\"/>\n       <use x=\"529.052734\" xlink:href=\"#DejaVuSans-112\"/>\n      </g>\n     </g>\n    </g>\n    <g id=\"ytick_4\">\n     <g id=\"line2d_24\">\n      <g>\n       <use style=\"stroke:#000000;stroke-width:0.8;\" x=\"81.096875\" xlink:href=\"#m1acf4f0352\" y=\"119.28625\"/>\n      </g>\n     </g>\n     <g id=\"text_14\">\n      <!-- thickness -->\n      <g transform=\"translate(26.8625 123.085469)scale(0.1 -0.1)\">\n       <use xlink:href=\"#DejaVuSans-116\"/>\n       <use x=\"39.208984\" xlink:href=\"#DejaVuSans-104\"/>\n       <use x=\"102.587891\" xlink:href=\"#DejaVuSans-105\"/>\n       <use x=\"130.371094\" xlink:href=\"#DejaVuSans-99\"/>\n       <use x=\"185.351562\" xlink:href=\"#DejaVuSans-107\"/>\n       <use x=\"243.261719\" xlink:href=\"#DejaVuSans-110\"/>\n       <use x=\"306.640625\" xlink:href=\"#DejaVuSans-101\"/>\n       <use x=\"368.164062\" xlink:href=\"#DejaVuSans-115\"/>\n       <use x=\"420.263672\" xlink:href=\"#DejaVuSans-115\"/>\n      </g>\n     </g>\n    </g>\n    <g id=\"ytick_5\">\n     <g id=\"line2d_25\">\n      <g>\n       <use style=\"stroke:#000000;stroke-width:0.8;\" x=\"81.096875\" xlink:href=\"#m1acf4f0352\" y=\"146.46625\"/>\n      </g>\n     </g>\n     <g id=\"text_15\">\n      <!-- insulin -->\n      <g transform=\"translate(41.540625 150.265469)scale(0.1 -0.1)\">\n       <use xlink:href=\"#DejaVuSans-105\"/>\n       <use x=\"27.783203\" xlink:href=\"#DejaVuSans-110\"/>\n       <use x=\"91.162109\" xlink:href=\"#DejaVuSans-115\"/>\n       <use x=\"143.261719\" xlink:href=\"#DejaVuSans-117\"/>\n       <use x=\"206.640625\" xlink:href=\"#DejaVuSans-108\"/>\n       <use x=\"234.423828\" xlink:href=\"#DejaVuSans-105\"/>\n       <use x=\"262.207031\" xlink:href=\"#DejaVuSans-110\"/>\n      </g>\n     </g>\n    </g>\n    <g id=\"ytick_6\">\n     <g id=\"line2d_26\">\n      <g>\n       <use style=\"stroke:#000000;stroke-width:0.8;\" x=\"81.096875\" xlink:href=\"#m1acf4f0352\" y=\"173.64625\"/>\n      </g>\n     </g>\n     <g id=\"text_16\">\n      <!-- bmi -->\n      <g transform=\"translate(55.229688 177.445469)scale(0.1 -0.1)\">\n       <use xlink:href=\"#DejaVuSans-98\"/>\n       <use x=\"63.476562\" xlink:href=\"#DejaVuSans-109\"/>\n       <use x=\"160.888672\" xlink:href=\"#DejaVuSans-105\"/>\n      </g>\n     </g>\n    </g>\n    <g id=\"ytick_7\">\n     <g id=\"line2d_27\">\n      <g>\n       <use style=\"stroke:#000000;stroke-width:0.8;\" x=\"81.096875\" xlink:href=\"#m1acf4f0352\" y=\"200.82625\"/>\n      </g>\n     </g>\n     <g id=\"text_17\">\n      <!-- diab_pred -->\n      <g transform=\"translate(24.757813 204.625469)scale(0.1 -0.1)\">\n       <use xlink:href=\"#DejaVuSans-100\"/>\n       <use x=\"63.476562\" xlink:href=\"#DejaVuSans-105\"/>\n       <use x=\"91.259766\" xlink:href=\"#DejaVuSans-97\"/>\n       <use x=\"152.539062\" xlink:href=\"#DejaVuSans-98\"/>\n       <use x=\"216.015625\" xlink:href=\"#DejaVuSans-95\"/>\n       <use x=\"266.015625\" xlink:href=\"#DejaVuSans-112\"/>\n       <use x=\"329.492188\" xlink:href=\"#DejaVuSans-114\"/>\n       <use x=\"368.355469\" xlink:href=\"#DejaVuSans-101\"/>\n       <use x=\"429.878906\" xlink:href=\"#DejaVuSans-100\"/>\n      </g>\n     </g>\n    </g>\n    <g id=\"ytick_8\">\n     <g id=\"line2d_28\">\n      <g>\n       <use style=\"stroke:#000000;stroke-width:0.8;\" x=\"81.096875\" xlink:href=\"#m1acf4f0352\" y=\"228.00625\"/>\n      </g>\n     </g>\n     <g id=\"text_18\">\n      <!-- age -->\n      <g transform=\"translate(55.467188 231.805469)scale(0.1 -0.1)\">\n       <use xlink:href=\"#DejaVuSans-97\"/>\n       <use x=\"61.279297\" xlink:href=\"#DejaVuSans-103\"/>\n       <use x=\"124.755859\" xlink:href=\"#DejaVuSans-101\"/>\n      </g>\n     </g>\n    </g>\n    <g id=\"ytick_9\">\n     <g id=\"line2d_29\">\n      <g>\n       <use style=\"stroke:#000000;stroke-width:0.8;\" x=\"81.096875\" xlink:href=\"#m1acf4f0352\" y=\"255.18625\"/>\n      </g>\n     </g>\n     <g id=\"text_19\">\n      <!-- skin -->\n      <g transform=\"translate(53.98125 258.985469)scale(0.1 -0.1)\">\n       <use xlink:href=\"#DejaVuSans-115\"/>\n       <use x=\"52.099609\" xlink:href=\"#DejaVuSans-107\"/>\n       <use x=\"110.009766\" xlink:href=\"#DejaVuSans-105\"/>\n       <use x=\"137.792969\" xlink:href=\"#DejaVuSans-110\"/>\n      </g>\n     </g>\n    </g>\n    <g id=\"ytick_10\">\n     <g id=\"line2d_30\">\n      <g>\n       <use style=\"stroke:#000000;stroke-width:0.8;\" x=\"81.096875\" xlink:href=\"#m1acf4f0352\" y=\"282.36625\"/>\n      </g>\n     </g>\n     <g id=\"text_20\">\n      <!-- diabetes -->\n      <g transform=\"translate(31.057813 286.165469)scale(0.1 -0.1)\">\n       <use xlink:href=\"#DejaVuSans-100\"/>\n       <use x=\"63.476562\" xlink:href=\"#DejaVuSans-105\"/>\n       <use x=\"91.259766\" xlink:href=\"#DejaVuSans-97\"/>\n       <use x=\"152.539062\" xlink:href=\"#DejaVuSans-98\"/>\n       <use x=\"216.015625\" xlink:href=\"#DejaVuSans-101\"/>\n       <use x=\"277.539062\" xlink:href=\"#DejaVuSans-116\"/>\n       <use x=\"316.748047\" xlink:href=\"#DejaVuSans-101\"/>\n       <use x=\"378.271484\" xlink:href=\"#DejaVuSans-115\"/>\n      </g>\n     </g>\n    </g>\n   </g>\n   <g id=\"patch_3\">\n    <path d=\"M 81.096875 295.95625 \nL 81.096875 24.15625 \n\" style=\"fill:none;stroke:#000000;stroke-linecap:square;stroke-linejoin:miter;stroke-width:0.8;\"/>\n   </g>\n   <g id=\"patch_4\">\n    <path d=\"M 352.896875 295.95625 \nL 352.896875 24.15625 \n\" style=\"fill:none;stroke:#000000;stroke-linecap:square;stroke-linejoin:miter;stroke-width:0.8;\"/>\n   </g>\n   <g id=\"patch_5\">\n    <path d=\"M 81.096875 295.95625 \nL 352.896875 295.95625 \n\" style=\"fill:none;stroke:#000000;stroke-linecap:square;stroke-linejoin:miter;stroke-width:0.8;\"/>\n   </g>\n   <g id=\"patch_6\">\n    <path d=\"M 81.096875 24.15625 \nL 352.896875 24.15625 \n\" style=\"fill:none;stroke:#000000;stroke-linecap:square;stroke-linejoin:miter;stroke-width:0.8;\"/>\n   </g>\n  </g>\n </g>\n <defs>\n  <clipPath id=\"p3f276e65a1\">\n   <rect height=\"271.8\" width=\"271.8\" x=\"81.096875\" y=\"24.15625\"/>\n  </clipPath>\n </defs>\n</svg>\n",
      "image/png": "[encoded data removed]"
     },
     "metadata": {
      "needs_background": "light"
     }
    }
   ],
   "source": [
    "plot_corr(df)"
   ]
  },
  {
   "cell_type": "code",
   "execution_count": 26,
   "metadata": {},
   "outputs": [
    {
     "output_type": "execute_result",
     "data": {
      "text/plain": [
       "              num_preg  glucose_conc  diastolic_bp  thickness   insulin  \\\n",
       "num_preg      1.000000      0.129459      0.141282  -0.081672 -0.073535   \n",
       "glucose_conc  0.129459      1.000000      0.152590   0.057328  0.331357   \n",
       "diastolic_bp  0.141282      0.152590      1.000000   0.207371  0.088933   \n",
       "thickness    -0.081672      0.057328      0.207371   1.000000  0.436783   \n",
       "insulin      -0.073535      0.331357      0.088933   0.436783  1.000000   \n",
       "bmi           0.017683      0.221071      0.281805   0.392573  0.197859   \n",
       "diab_pred    -0.033523      0.137337      0.041265   0.183928  0.185071   \n",
       "age           0.544341      0.263514      0.239528  -0.113970 -0.042163   \n",
       "skin         -0.081673      0.057326      0.207371   1.000000  0.436785   \n",
       "diabetes      0.221898      0.466581      0.065068   0.074752  0.130548   \n",
       "\n",
       "                   bmi  diab_pred       age      skin  diabetes  \n",
       "num_preg      0.017683  -0.033523  0.544341 -0.081673  0.221898  \n",
       "glucose_conc  0.221071   0.137337  0.263514  0.057326  0.466581  \n",
       "diastolic_bp  0.281805   0.041265  0.239528  0.207371  0.065068  \n",
       "thickness     0.392573   0.183928 -0.113970  1.000000  0.074752  \n",
       "insulin       0.197859   0.185071 -0.042163  0.436785  0.130548  \n",
       "bmi           1.000000   0.140647  0.036242  0.392574  0.292695  \n",
       "diab_pred     0.140647   1.000000  0.033561  0.183927  0.173844  \n",
       "age           0.036242   0.033561  1.000000 -0.113973  0.238356  \n",
       "skin          0.392574   0.183927 -0.113973  1.000000  0.074750  \n",
       "diabetes      0.292695   0.173844  0.238356  0.074750  1.000000  "
      ],
      "text/html": "<div>\n<style scoped>\n    .dataframe tbody tr th:only-of-type {\n        vertical-align: middle;\n    }\n\n    .dataframe tbody tr th {\n        vertical-align: top;\n    }\n\n    .dataframe thead th {\n        text-align: right;\n    }\n</style>\n<table border=\"1\" class=\"dataframe\">\n  <thead>\n    <tr style=\"text-align: right;\">\n      <th></th>\n      <th>num_preg</th>\n      <th>glucose_conc</th>\n      <th>diastolic_bp</th>\n      <th>thickness</th>\n      <th>insulin</th>\n      <th>bmi</th>\n      <th>diab_pred</th>\n      <th>age</th>\n      <th>skin</th>\n      <th>diabetes</th>\n    </tr>\n  </thead>\n  <tbody>\n    <tr>\n      <th>num_preg</th>\n      <td>1.000000</td>\n      <td>0.129459</td>\n      <td>0.141282</td>\n      <td>-0.081672</td>\n      <td>-0.073535</td>\n      <td>0.017683</td>\n      <td>-0.033523</td>\n      <td>0.544341</td>\n      <td>-0.081673</td>\n      <td>0.221898</td>\n    </tr>\n    <tr>\n      <th>glucose_conc</th>\n      <td>0.129459</td>\n      <td>1.000000</td>\n      <td>0.152590</td>\n      <td>0.057328</td>\n      <td>0.331357</td>\n      <td>0.221071</td>\n      <td>0.137337</td>\n      <td>0.263514</td>\n      <td>0.057326</td>\n      <td>0.466581</td>\n    </tr>\n    <tr>\n      <th>diastolic_bp</th>\n      <td>0.141282</td>\n      <td>0.152590</td>\n      <td>1.000000</td>\n      <td>0.207371</td>\n      <td>0.088933</td>\n      <td>0.281805</td>\n      <td>0.041265</td>\n      <td>0.239528</td>\n      <td>0.207371</td>\n      <td>0.065068</td>\n    </tr>\n    <tr>\n      <th>thickness</th>\n      <td>-0.081672</td>\n      <td>0.057328</td>\n      <td>0.207371</td>\n      <td>1.000000</td>\n      <td>0.436783</td>\n      <td>0.392573</td>\n      <td>0.183928</td>\n      <td>-0.113970</td>\n      <td>1.000000</td>\n      <td>0.074752</td>\n    </tr>\n    <tr>\n      <th>insulin</th>\n      <td>-0.073535</td>\n      <td>0.331357</td>\n      <td>0.088933</td>\n      <td>0.436783</td>\n      <td>1.000000</td>\n      <td>0.197859</td>\n      <td>0.185071</td>\n      <td>-0.042163</td>\n      <td>0.436785</td>\n      <td>0.130548</td>\n    </tr>\n    <tr>\n      <th>bmi</th>\n      <td>0.017683</td>\n      <td>0.221071</td>\n      <td>0.281805</td>\n      <td>0.392573</td>\n      <td>0.197859</td>\n      <td>1.000000</td>\n      <td>0.140647</td>\n      <td>0.036242</td>\n      <td>0.392574</td>\n      <td>0.292695</td>\n    </tr>\n    <tr>\n      <th>diab_pred</th>\n      <td>-0.033523</td>\n      <td>0.137337</td>\n      <td>0.041265</td>\n      <td>0.183928</td>\n      <td>0.185071</td>\n      <td>0.140647</td>\n      <td>1.000000</td>\n      <td>0.033561</td>\n      <td>0.183927</td>\n      <td>0.173844</td>\n    </tr>\n    <tr>\n      <th>age</th>\n      <td>0.544341</td>\n      <td>0.263514</td>\n      <td>0.239528</td>\n      <td>-0.113970</td>\n      <td>-0.042163</td>\n      <td>0.036242</td>\n      <td>0.033561</td>\n      <td>1.000000</td>\n      <td>-0.113973</td>\n      <td>0.238356</td>\n    </tr>\n    <tr>\n      <th>skin</th>\n      <td>-0.081673</td>\n      <td>0.057326</td>\n      <td>0.207371</td>\n      <td>1.000000</td>\n      <td>0.436785</td>\n      <td>0.392574</td>\n      <td>0.183927</td>\n      <td>-0.113973</td>\n      <td>1.000000</td>\n      <td>0.074750</td>\n    </tr>\n    <tr>\n      <th>diabetes</th>\n      <td>0.221898</td>\n      <td>0.466581</td>\n      <td>0.065068</td>\n      <td>0.074752</td>\n      <td>0.130548</td>\n      <td>0.292695</td>\n      <td>0.173844</td>\n      <td>0.238356</td>\n      <td>0.074750</td>\n      <td>1.000000</td>\n    </tr>\n  </tbody>\n</table>\n</div>"
     },
     "metadata": {},
     "execution_count": 26
    }
   ],
   "source": [
    "df.corr()"
   ]
  },
  {
   "cell_type": "code",
   "execution_count": 5,
   "metadata": {},
   "outputs": [
    {
     "output_type": "execute_result",
     "data": {
      "text/plain": [
       "   num_preg  glucose_conc  diastolic_bp  thickness  insulin   bmi  diab_pred  \\\n",
       "0         6           148            72         35        0  33.6      0.627   \n",
       "1         1            85            66         29        0  26.6      0.351   \n",
       "2         8           183            64          0        0  23.3      0.672   \n",
       "3         1            89            66         23       94  28.1      0.167   \n",
       "4         0           137            40         35      168  43.1      2.288   \n",
       "\n",
       "   age    skin  diabetes  \n",
       "0   50  1.3780         1  \n",
       "1   31  1.1426         0  \n",
       "2   32  0.0000         1  \n",
       "3   21  0.9062         0  \n",
       "4   33  1.3790         1  "
      ],
      "text/html": "<div>\n<style scoped>\n    .dataframe tbody tr th:only-of-type {\n        vertical-align: middle;\n    }\n\n    .dataframe tbody tr th {\n        vertical-align: top;\n    }\n\n    .dataframe thead th {\n        text-align: right;\n    }\n</style>\n<table border=\"1\" class=\"dataframe\">\n  <thead>\n    <tr style=\"text-align: right;\">\n      <th></th>\n      <th>num_preg</th>\n      <th>glucose_conc</th>\n      <th>diastolic_bp</th>\n      <th>thickness</th>\n      <th>insulin</th>\n      <th>bmi</th>\n      <th>diab_pred</th>\n      <th>age</th>\n      <th>skin</th>\n      <th>diabetes</th>\n    </tr>\n  </thead>\n  <tbody>\n    <tr>\n      <th>0</th>\n      <td>6</td>\n      <td>148</td>\n      <td>72</td>\n      <td>35</td>\n      <td>0</td>\n      <td>33.6</td>\n      <td>0.627</td>\n      <td>50</td>\n      <td>1.3780</td>\n      <td>1</td>\n    </tr>\n    <tr>\n      <th>1</th>\n      <td>1</td>\n      <td>85</td>\n      <td>66</td>\n      <td>29</td>\n      <td>0</td>\n      <td>26.6</td>\n      <td>0.351</td>\n      <td>31</td>\n      <td>1.1426</td>\n      <td>0</td>\n    </tr>\n    <tr>\n      <th>2</th>\n      <td>8</td>\n      <td>183</td>\n      <td>64</td>\n      <td>0</td>\n      <td>0</td>\n      <td>23.3</td>\n      <td>0.672</td>\n      <td>32</td>\n      <td>0.0000</td>\n      <td>1</td>\n    </tr>\n    <tr>\n      <th>3</th>\n      <td>1</td>\n      <td>89</td>\n      <td>66</td>\n      <td>23</td>\n      <td>94</td>\n      <td>28.1</td>\n      <td>0.167</td>\n      <td>21</td>\n      <td>0.9062</td>\n      <td>0</td>\n    </tr>\n    <tr>\n      <th>4</th>\n      <td>0</td>\n      <td>137</td>\n      <td>40</td>\n      <td>35</td>\n      <td>168</td>\n      <td>43.1</td>\n      <td>2.288</td>\n      <td>33</td>\n      <td>1.3790</td>\n      <td>1</td>\n    </tr>\n  </tbody>\n</table>\n</div>"
     },
     "metadata": {},
     "execution_count": 5
    }
   ],
   "source": [
    "diabetes_map = {True: 1, False: 0}\n",
    "df['diabetes'] = df['diabetes'].map(diabetes_map)\n",
    "df.head()"
   ]
  },
  {
   "cell_type": "code",
   "execution_count": 29,
   "metadata": {},
   "outputs": [
    {
     "output_type": "stream",
     "name": "stdout",
     "text": [
      "Cases True: 268 34.89583333333333 %\nCases False: 500 65.10416666666666 %\n"
     ]
    }
   ],
   "source": [
    "num_true = len(df.loc[df['diabetes'] == 1])\n",
    "num_false = len(df.loc[df['diabetes'] == 0])\n",
    "\n",
    "print(\"Cases True:\", num_true, (num_true/(num_true + num_false))*100, \"%\")\n",
    "print(\"Cases False:\", num_false, (num_false/(num_false + num_true))*100, \"%\")"
   ]
  },
  {
   "cell_type": "code",
   "execution_count": 13,
   "metadata": {},
   "outputs": [],
   "source": [
    "from sklearn.model_selection import train_test_split"
   ]
  },
  {
   "cell_type": "code",
   "execution_count": 6,
   "metadata": {},
   "outputs": [],
   "source": [
    "atributos = ['num_preg', 'glucose_conc', 'diastolic_bp', 'thickness', 'insulin',\n",
    "       'bmi', 'diab_pred', 'age']"
   ]
  },
  {
   "cell_type": "code",
   "execution_count": 7,
   "metadata": {},
   "outputs": [],
   "source": [
    "atrib_prev = ['diabetes']"
   ]
  },
  {
   "cell_type": "code",
   "execution_count": 8,
   "metadata": {},
   "outputs": [],
   "source": [
    "x = df[atributos].values\n",
    "y = df[atrib_prev].values"
   ]
  },
  {
   "cell_type": "code",
   "execution_count": 11,
   "metadata": {},
   "outputs": [],
   "source": [
    "split_test_size = 0.3"
   ]
  },
  {
   "cell_type": "code",
   "execution_count": 14,
   "metadata": {},
   "outputs": [],
   "source": [
    "x_treino, x_teste, y_treino, y_teste = train_test_split(x, y, test_size = split_test_size, random_state = 42)"
   ]
  },
  {
   "cell_type": "code",
   "execution_count": null,
   "metadata": {},
   "outputs": [],
   "source": [
    "# TRATANDO DADOS MISSING IMPUTE"
   ]
  },
  {
   "cell_type": "code",
   "execution_count": 28,
   "metadata": {},
   "outputs": [
    {
     "output_type": "stream",
     "name": "stdout",
     "text": [
      "# Linhas no dataframe 768\n# Linhas missing glucose_conc: 5\n# Linhas missing diastolic_bp: 35\n# Linhas missing thickness: 227\n# Linhas missing insulin: 374\n# Linhas missing bmi: 11\n# Linhas missing age: 0\n"
     ]
    }
   ],
   "source": [
    "print(\"# Linhas no dataframe {0}\".format(len(df)))\n",
    "print(\"# Linhas missing glucose_conc: {0}\".format(len(df.loc[df['glucose_conc'] == 0])))\n",
    "print(\"# Linhas missing diastolic_bp: {0}\".format(len(df.loc[df['diastolic_bp'] == 0])))\n",
    "print(\"# Linhas missing thickness: {0}\".format(len(df.loc[df['thickness'] == 0])))\n",
    "print(\"# Linhas missing insulin: {0}\".format(len(df.loc[df['insulin'] == 0])))\n",
    "print(\"# Linhas missing bmi: {0}\".format(len(df.loc[df['bmi'] == 0])))\n",
    "print(\"# Linhas missing age: {0}\".format(len(df.loc[df['age'] == 0])))"
   ]
  },
  {
   "cell_type": "code",
   "execution_count": 15,
   "metadata": {},
   "outputs": [],
   "source": [
    "from sklearn.impute import SimpleImputer"
   ]
  },
  {
   "cell_type": "code",
   "execution_count": 16,
   "metadata": {},
   "outputs": [],
   "source": [
    "preenche_0 = SimpleImputer(missing_values = 0, strategy = \"mean\")\n",
    "\n",
    "X_treino = preenche_0.fit_transform(x_treino)\n",
    "X_teste = preenche_0.fit_transform(x_teste)"
   ]
  },
  {
   "cell_type": "code",
   "execution_count": 39,
   "metadata": {},
   "outputs": [
    {
     "output_type": "execute_result",
     "data": {
      "text/plain": [
       "array([[  1.        ,  95.        ,  60.        , ...,  23.9       ,\n",
       "          0.26      ,  22.        ],\n",
       "       [  5.        , 105.        ,  72.        , ...,  36.9       ,\n",
       "          0.159     ,  28.        ],\n",
       "       [  4.34056399, 135.        ,  68.        , ...,  42.3       ,\n",
       "          0.365     ,  24.        ],\n",
       "       ...,\n",
       "       [ 10.        , 101.        ,  86.        , ...,  45.6       ,\n",
       "          1.136     ,  38.        ],\n",
       "       [  4.34056399, 141.        ,  72.24131274, ...,  42.4       ,\n",
       "          0.205     ,  29.        ],\n",
       "       [  4.34056399, 125.        ,  96.        , ...,  22.5       ,\n",
       "          0.262     ,  21.        ]])"
      ]
     },
     "metadata": {},
     "execution_count": 39
    }
   ],
   "source": [
    "X_treino"
   ]
  },
  {
   "cell_type": "code",
   "execution_count": 40,
   "metadata": {},
   "outputs": [],
   "source": [
    "from sklearn.naive_bayes import GaussianNB"
   ]
  },
  {
   "cell_type": "code",
   "execution_count": 41,
   "metadata": {},
   "outputs": [],
   "source": [
    "modelo_v1 = GaussianNB()"
   ]
  },
  {
   "cell_type": "code",
   "execution_count": 42,
   "metadata": {},
   "outputs": [
    {
     "output_type": "execute_result",
     "data": {
      "text/plain": [
       "GaussianNB()"
      ]
     },
     "metadata": {},
     "execution_count": 42
    }
   ],
   "source": [
    "modelo_v1.fit(X_treino, y_treino.ravel())"
   ]
  },
  {
   "cell_type": "code",
   "execution_count": 23,
   "metadata": {},
   "outputs": [],
   "source": [
    "from sklearn import metrics"
   ]
  },
  {
   "cell_type": "code",
   "execution_count": 56,
   "metadata": {},
   "outputs": [],
   "source": [
    "nb_predict_train = modelo_v1.predict(X_treino)"
   ]
  },
  {
   "cell_type": "code",
   "execution_count": 57,
   "metadata": {},
   "outputs": [
    {
     "output_type": "stream",
     "name": "stdout",
     "text": [
      "Exatidão (Accuracy): 0.7542\n"
     ]
    }
   ],
   "source": [
    "print(\"Exatidão (Accuracy): {0:.4f}\".format(metrics.accuracy_score(y_treino, nb_predict_train)))"
   ]
  },
  {
   "cell_type": "code",
   "execution_count": 61,
   "metadata": {},
   "outputs": [],
   "source": [
    "nb_predict_test = modelo_v1.predict(X_teste)"
   ]
  },
  {
   "cell_type": "code",
   "execution_count": 63,
   "metadata": {},
   "outputs": [
    {
     "output_type": "stream",
     "name": "stdout",
     "text": [
      "Exatidão (Accuracy): 0.7359\n\n"
     ]
    }
   ],
   "source": [
    "print(\"Exatidão (Accuracy): {0:.4f}\".format(metrics.accuracy_score(y_teste, nb_predict_test)))\n",
    "print()"
   ]
  },
  {
   "cell_type": "code",
   "execution_count": 66,
   "metadata": {},
   "outputs": [
    {
     "output_type": "stream",
     "name": "stdout",
     "text": [
      "Confusion Matrix\n[[ 52  28]\n [ 33 118]]\n\nClassification Report\n              precision    recall  f1-score   support\n\n           1       0.61      0.65      0.63        80\n           0       0.81      0.78      0.79       151\n\n    accuracy                           0.74       231\n   macro avg       0.71      0.72      0.71       231\nweighted avg       0.74      0.74      0.74       231\n\n"
     ]
    }
   ],
   "source": [
    "\n",
    "# Criando uma Confusion Matrix\n",
    "print(\"Confusion Matrix\")\n",
    "\n",
    "print(\"{0}\".format(metrics.confusion_matrix(y_teste, nb_predict_test, labels = [1, 0])))\n",
    "print(\"\")\n",
    "\n",
    "print(\"Classification Report\")\n",
    "print(metrics.classification_report(y_teste, nb_predict_test, labels = [1, 0]))"
   ]
  },
  {
   "cell_type": "code",
   "execution_count": 19,
   "metadata": {},
   "outputs": [],
   "source": [
    "from sklearn.linear_model import LogisticRegression"
   ]
  },
  {
   "cell_type": "code",
   "execution_count": 20,
   "metadata": {},
   "outputs": [],
   "source": [
    "modulo_v3 = LogisticRegression(C = 0.7, random_state = 42)\n",
    "modulo_v3.fit(X_treino, y_treino.ravel())\n",
    "lr_predict_test = modulo_v3.predict(X_teste)"
   ]
  },
  {
   "cell_type": "code",
   "execution_count": 24,
   "metadata": {},
   "outputs": [
    {
     "output_type": "stream",
     "name": "stdout",
     "text": [
      "Exatidão (Accuracy): 0.7489\n\nClassification Report\n              precision    recall  f1-score   support\n\n           1       0.65      0.60      0.62        80\n           0       0.80      0.83      0.81       151\n\n    accuracy                           0.75       231\n   macro avg       0.72      0.71      0.72       231\nweighted avg       0.75      0.75      0.75       231\n\n"
     ]
    }
   ],
   "source": [
    "print(\"Exatidão (Accuracy): {0:.4f}\".format(metrics.accuracy_score(y_teste, lr_predict_test)))\n",
    "print()\n",
    "print(\"Classification Report\")\n",
    "print(metrics.classification_report(y_teste, lr_predict_test, labels = [1, 0]))"
   ]
  },
  {
   "cell_type": "code",
   "execution_count": 26,
   "metadata": {},
   "outputs": [],
   "source": [
    "import pickle"
   ]
  },
  {
   "cell_type": "code",
   "execution_count": 28,
   "metadata": {},
   "outputs": [],
   "source": [
    "filename = 'modelo_treinado_v3.sav'\n",
    "pickle.dump(modulo_v3, open(filename, 'wb'))"
   ]
  },
  {
   "cell_type": "code",
   "execution_count": 29,
   "metadata": {},
   "outputs": [
    {
     "output_type": "stream",
     "name": "stdout",
     "text": [
      "[0]\n[1]\n"
     ]
    }
   ],
   "source": [
    "loaded_model = pickle.load(open(filename, 'rb'))\n",
    "resultado1 = loaded_model.predict(X_teste[15].reshape(1, -1))\n",
    "resultado2 = loaded_model.predict(X_teste[18].reshape(1, -1))\n",
    "print(resultado1)\n",
    "print(resultado2)"
   ]
  }
 ]
}